{
 "cells": [
  {
   "cell_type": "markdown",
   "id": "33fa6442",
   "metadata": {},
   "source": [
    "# Import libraries"
   ]
  },
  {
   "cell_type": "code",
   "execution_count": 1,
   "id": "9ed7e757",
   "metadata": {},
   "outputs": [],
   "source": [
    "import pandas as pd\n",
    "import numpy as np\n",
    "import pandas as pd \n",
    "import matplotlib.pyplot as plt\n",
    "%matplotlib inline\n",
    "#import errors and r square\n",
    "from sklearn.metrics import mean_squared_error\n",
    "from sklearn.metrics import mean_absolute_error\n",
    "from sklearn.metrics import r2_score\n",
    "import scipy.stats as stats\n",
    "import seaborn as sns"
   ]
  },
  {
   "cell_type": "markdown",
   "id": "7f513e10",
   "metadata": {},
   "source": [
    "# Import dataset"
   ]
  },
  {
   "cell_type": "code",
   "execution_count": 2,
   "id": "fab1c212",
   "metadata": {},
   "outputs": [
    {
     "data": {
      "text/html": [
       "<div>\n",
       "<style scoped>\n",
       "    .dataframe tbody tr th:only-of-type {\n",
       "        vertical-align: middle;\n",
       "    }\n",
       "\n",
       "    .dataframe tbody tr th {\n",
       "        vertical-align: top;\n",
       "    }\n",
       "\n",
       "    .dataframe thead th {\n",
       "        text-align: right;\n",
       "    }\n",
       "</style>\n",
       "<table border=\"1\" class=\"dataframe\">\n",
       "  <thead>\n",
       "    <tr style=\"text-align: right;\">\n",
       "      <th></th>\n",
       "      <th>property_id</th>\n",
       "      <th>location_id</th>\n",
       "      <th>page_url</th>\n",
       "      <th>property_type</th>\n",
       "      <th>price</th>\n",
       "      <th>location</th>\n",
       "      <th>city</th>\n",
       "      <th>province_name</th>\n",
       "      <th>latitude</th>\n",
       "      <th>longitude</th>\n",
       "      <th>baths</th>\n",
       "      <th>area</th>\n",
       "      <th>purpose</th>\n",
       "      <th>bedrooms</th>\n",
       "      <th>date_added</th>\n",
       "      <th>agency</th>\n",
       "      <th>agent</th>\n",
       "    </tr>\n",
       "  </thead>\n",
       "  <tbody>\n",
       "    <tr>\n",
       "      <th>0</th>\n",
       "      <td>237062</td>\n",
       "      <td>3325</td>\n",
       "      <td>https://www.zameen.com/Property/g_10_g_10_2_gr...</td>\n",
       "      <td>Flat</td>\n",
       "      <td>10000000</td>\n",
       "      <td>G-10</td>\n",
       "      <td>Islamabad</td>\n",
       "      <td>Islamabad Capital</td>\n",
       "      <td>33.679890</td>\n",
       "      <td>73.012640</td>\n",
       "      <td>2</td>\n",
       "      <td>4 Marla</td>\n",
       "      <td>For Sale</td>\n",
       "      <td>2</td>\n",
       "      <td>02-04-2019</td>\n",
       "      <td>NaN</td>\n",
       "      <td>NaN</td>\n",
       "    </tr>\n",
       "    <tr>\n",
       "      <th>1</th>\n",
       "      <td>346905</td>\n",
       "      <td>3236</td>\n",
       "      <td>https://www.zameen.com/Property/e_11_2_service...</td>\n",
       "      <td>Flat</td>\n",
       "      <td>6900000</td>\n",
       "      <td>E-11</td>\n",
       "      <td>Islamabad</td>\n",
       "      <td>Islamabad Capital</td>\n",
       "      <td>33.700993</td>\n",
       "      <td>72.971492</td>\n",
       "      <td>3</td>\n",
       "      <td>5.6 Marla</td>\n",
       "      <td>For Sale</td>\n",
       "      <td>3</td>\n",
       "      <td>05-04-2019</td>\n",
       "      <td>NaN</td>\n",
       "      <td>NaN</td>\n",
       "    </tr>\n",
       "    <tr>\n",
       "      <th>2</th>\n",
       "      <td>386513</td>\n",
       "      <td>764</td>\n",
       "      <td>https://www.zameen.com/Property/islamabad_g_15...</td>\n",
       "      <td>House</td>\n",
       "      <td>16500000</td>\n",
       "      <td>G-15</td>\n",
       "      <td>Islamabad</td>\n",
       "      <td>Islamabad Capital</td>\n",
       "      <td>33.631486</td>\n",
       "      <td>72.926559</td>\n",
       "      <td>6</td>\n",
       "      <td>8 Marla</td>\n",
       "      <td>For Sale</td>\n",
       "      <td>5</td>\n",
       "      <td>07-17-2019</td>\n",
       "      <td>NaN</td>\n",
       "      <td>NaN</td>\n",
       "    </tr>\n",
       "    <tr>\n",
       "      <th>3</th>\n",
       "      <td>656161</td>\n",
       "      <td>340</td>\n",
       "      <td>https://www.zameen.com/Property/islamabad_bani...</td>\n",
       "      <td>House</td>\n",
       "      <td>43500000</td>\n",
       "      <td>Bani Gala</td>\n",
       "      <td>Islamabad</td>\n",
       "      <td>Islamabad Capital</td>\n",
       "      <td>33.707573</td>\n",
       "      <td>73.151199</td>\n",
       "      <td>4</td>\n",
       "      <td>2 Kanal</td>\n",
       "      <td>For Sale</td>\n",
       "      <td>4</td>\n",
       "      <td>04-05-2019</td>\n",
       "      <td>NaN</td>\n",
       "      <td>NaN</td>\n",
       "    </tr>\n",
       "    <tr>\n",
       "      <th>4</th>\n",
       "      <td>841645</td>\n",
       "      <td>3226</td>\n",
       "      <td>https://www.zameen.com/Property/dha_valley_dha...</td>\n",
       "      <td>House</td>\n",
       "      <td>7000000</td>\n",
       "      <td>DHA Defence</td>\n",
       "      <td>Islamabad</td>\n",
       "      <td>Islamabad Capital</td>\n",
       "      <td>33.492591</td>\n",
       "      <td>73.301339</td>\n",
       "      <td>3</td>\n",
       "      <td>8 Marla</td>\n",
       "      <td>For Sale</td>\n",
       "      <td>3</td>\n",
       "      <td>07-10-2019</td>\n",
       "      <td>Easy Property</td>\n",
       "      <td>Muhammad Junaid Ceo Muhammad Shahid Director</td>\n",
       "    </tr>\n",
       "  </tbody>\n",
       "</table>\n",
       "</div>"
      ],
      "text/plain": [
       "   property_id  location_id  \\\n",
       "0       237062         3325   \n",
       "1       346905         3236   \n",
       "2       386513          764   \n",
       "3       656161          340   \n",
       "4       841645         3226   \n",
       "\n",
       "                                            page_url property_type     price  \\\n",
       "0  https://www.zameen.com/Property/g_10_g_10_2_gr...          Flat  10000000   \n",
       "1  https://www.zameen.com/Property/e_11_2_service...          Flat   6900000   \n",
       "2  https://www.zameen.com/Property/islamabad_g_15...         House  16500000   \n",
       "3  https://www.zameen.com/Property/islamabad_bani...         House  43500000   \n",
       "4  https://www.zameen.com/Property/dha_valley_dha...         House   7000000   \n",
       "\n",
       "      location       city      province_name   latitude  longitude  baths  \\\n",
       "0         G-10  Islamabad  Islamabad Capital  33.679890  73.012640      2   \n",
       "1         E-11  Islamabad  Islamabad Capital  33.700993  72.971492      3   \n",
       "2         G-15  Islamabad  Islamabad Capital  33.631486  72.926559      6   \n",
       "3    Bani Gala  Islamabad  Islamabad Capital  33.707573  73.151199      4   \n",
       "4  DHA Defence  Islamabad  Islamabad Capital  33.492591  73.301339      3   \n",
       "\n",
       "        area   purpose  bedrooms  date_added         agency  \\\n",
       "0    4 Marla  For Sale         2  02-04-2019            NaN   \n",
       "1  5.6 Marla  For Sale         3  05-04-2019            NaN   \n",
       "2    8 Marla  For Sale         5  07-17-2019            NaN   \n",
       "3    2 Kanal  For Sale         4  04-05-2019            NaN   \n",
       "4    8 Marla  For Sale         3  07-10-2019  Easy Property   \n",
       "\n",
       "                                          agent  \n",
       "0                                           NaN  \n",
       "1                                           NaN  \n",
       "2                                           NaN  \n",
       "3                                           NaN  \n",
       "4  Muhammad Junaid Ceo Muhammad Shahid Director  "
      ]
     },
     "execution_count": 2,
     "metadata": {},
     "output_type": "execute_result"
    }
   ],
   "source": [
    "df=pd.read_csv('Zameen property data.csv')\n",
    "df.head()"
   ]
  },
  {
   "cell_type": "code",
   "execution_count": 3,
   "id": "4034398b",
   "metadata": {},
   "outputs": [
    {
     "data": {
      "text/plain": [
       "168446"
      ]
     },
     "execution_count": 3,
     "metadata": {},
     "output_type": "execute_result"
    }
   ],
   "source": [
    "houses=df.shape[0]\n",
    "houses"
   ]
  },
  {
   "cell_type": "markdown",
   "id": "c421f461",
   "metadata": {},
   "source": [
    "# Sum of null values"
   ]
  },
  {
   "cell_type": "code",
   "execution_count": 4,
   "id": "6bc6c320",
   "metadata": {},
   "outputs": [
    {
     "data": {
      "text/plain": [
       "property_id          0\n",
       "location_id          0\n",
       "page_url             0\n",
       "property_type        0\n",
       "price                0\n",
       "location             0\n",
       "city                 0\n",
       "province_name        0\n",
       "latitude             0\n",
       "longitude            0\n",
       "baths                0\n",
       "area                 0\n",
       "purpose              0\n",
       "bedrooms             0\n",
       "date_added           0\n",
       "agency           44071\n",
       "agent            44072\n",
       "dtype: int64"
      ]
     },
     "execution_count": 4,
     "metadata": {},
     "output_type": "execute_result"
    }
   ],
   "source": [
    "df.isnull().sum()"
   ]
  },
  {
   "cell_type": "markdown",
   "id": "e100a761",
   "metadata": {},
   "source": [
    "# Sum of NAN values"
   ]
  },
  {
   "cell_type": "code",
   "execution_count": 5,
   "id": "87b4ce81",
   "metadata": {},
   "outputs": [
    {
     "data": {
      "text/plain": [
       "agency    44071\n",
       "agent     44072\n",
       "dtype: int64"
      ]
     },
     "execution_count": 5,
     "metadata": {},
     "output_type": "execute_result"
    }
   ],
   "source": [
    "NAN_value=pd.isnull(df).sum()\n",
    "NAN_value[NAN_value>0]"
   ]
  },
  {
   "cell_type": "markdown",
   "id": "5853bc21",
   "metadata": {},
   "source": [
    "# Heat Map to check null "
   ]
  },
  {
   "cell_type": "code",
   "execution_count": 6,
   "id": "d187370f",
   "metadata": {},
   "outputs": [
    {
     "data": {
      "image/png": "[encoded data removed]",
      "text/plain": [
       "<Figure size 360x360 with 2 Axes>"
      ]
     },
     "metadata": {
      "needs_background": "light"
     },
     "output_type": "display_data"
    }
   ],
   "source": [
    "plt.figure(figsize=(5,5))\n",
    "sns.heatmap(df.isnull().T);"
   ]
  },
  {
   "cell_type": "markdown",
   "id": "aee26384",
   "metadata": {},
   "source": [
    "# sum of missing values and their percentages"
   ]
  },
  {
   "cell_type": "code",
   "execution_count": 7,
   "id": "b40ccf9c",
   "metadata": {},
   "outputs": [
    {
     "data": {
      "text/html": [
       "<div>\n",
       "<style scoped>\n",
       "    .dataframe tbody tr th:only-of-type {\n",
       "        vertical-align: middle;\n",
       "    }\n",
       "\n",
       "    .dataframe tbody tr th {\n",
       "        vertical-align: top;\n",
       "    }\n",
       "\n",
       "    .dataframe thead th {\n",
       "        text-align: right;\n",
       "    }\n",
       "</style>\n",
       "<table border=\"1\" class=\"dataframe\">\n",
       "  <thead>\n",
       "    <tr style=\"text-align: right;\">\n",
       "      <th></th>\n",
       "      <th>sum_of_missing_values</th>\n",
       "      <th>percentage_of_missing_values</th>\n",
       "    </tr>\n",
       "  </thead>\n",
       "  <tbody>\n",
       "    <tr>\n",
       "      <th>agent</th>\n",
       "      <td>44072</td>\n",
       "      <td>26.163874</td>\n",
       "    </tr>\n",
       "    <tr>\n",
       "      <th>agency</th>\n",
       "      <td>44071</td>\n",
       "      <td>26.163281</td>\n",
       "    </tr>\n",
       "  </tbody>\n",
       "</table>\n",
       "</div>"
      ],
      "text/plain": [
       "        sum_of_missing_values  percentage_of_missing_values\n",
       "agent                   44072                     26.163874\n",
       "agency                  44071                     26.163281"
      ]
     },
     "execution_count": 7,
     "metadata": {},
     "output_type": "execute_result"
    }
   ],
   "source": [
    "pd.set_option('display.max_rows', None)\n",
    "missing_value= pd.DataFrame(df.isnull().sum().sort_values(ascending = False), columns = ['sum_of_missing_values'])\n",
    "missing_value['percentage_of_missing_values'] = missing_value['sum_of_missing_values']/df.shape[0]*100\n",
    "missing_value = missing_value[missing_value['sum_of_missing_values']>0]\n",
    "missing_value"
   ]
  },
  {
   "cell_type": "markdown",
   "id": "4d72257b",
   "metadata": {},
   "source": [
    "# display count plot to check missing values"
   ]
  },
  {
   "cell_type": "code",
   "execution_count": 8,
   "id": "3883bb62",
   "metadata": {},
   "outputs": [
    {
     "data": {
      "image/png": "[encoded data removed]",
      "text/plain": [
       "<Figure size 720x360 with 1 Axes>"
      ]
     },
     "metadata": {
      "needs_background": "light"
     },
     "output_type": "display_data"
    }
   ],
   "source": [
    "plt.figure(figsize = (10, 5))\n",
    "sns.barplot(x = missing_value.index, y = missing_value['sum_of_missing_values'],palette ='Blues',edgecolor='black')\n",
    "plt.xticks(rotation =70)\n",
    "plt.title(\"Bar plot for checking missing values\")\n",
    "plt.xlabel(\"Features\")\n",
    "plt.ylabel(\"Total Missing Values\")\n",
    "plt.show()"
   ]
  },
  {
   "cell_type": "code",
   "execution_count": 9,
   "id": "c416b8d8",
   "metadata": {},
   "outputs": [],
   "source": [
    "df.drop(['agent'], axis=1, inplace=True)\n",
    "df.drop(['agency'], axis=1, inplace=True)"
   ]
  },
  {
   "cell_type": "code",
   "execution_count": 10,
   "id": "5d4277f9",
   "metadata": {},
   "outputs": [
    {
     "data": {
      "text/plain": [
       "False"
      ]
     },
     "execution_count": 10,
     "metadata": {},
     "output_type": "execute_result"
    }
   ],
   "source": [
    "df.isnull().sum().any()"
   ]
  },
  {
   "cell_type": "code",
   "execution_count": 11,
   "id": "33d491ad",
   "metadata": {},
   "outputs": [
    {
     "data": {
      "image/png": "[encoded data removed]",
      "text/plain": [
       "<Figure size 360x360 with 2 Axes>"
      ]
     },
     "metadata": {
      "needs_background": "light"
     },
     "output_type": "display_data"
    }
   ],
   "source": [
    "plt.figure(figsize=(5,5))\n",
    "sns.heatmap(df.isnull().T);"
   ]
  },
  {
   "cell_type": "code",
   "execution_count": 12,
   "id": "9c9d7f7e",
   "metadata": {},
   "outputs": [
    {
     "data": {
      "text/html": [
       "<div>\n",
       "<style scoped>\n",
       "    .dataframe tbody tr th:only-of-type {\n",
       "        vertical-align: middle;\n",
       "    }\n",
       "\n",
       "    .dataframe tbody tr th {\n",
       "        vertical-align: top;\n",
       "    }\n",
       "\n",
       "    .dataframe thead th {\n",
       "        text-align: right;\n",
       "    }\n",
       "</style>\n",
       "<table border=\"1\" class=\"dataframe\">\n",
       "  <thead>\n",
       "    <tr style=\"text-align: right;\">\n",
       "      <th></th>\n",
       "      <th>page_url</th>\n",
       "      <th>property_type</th>\n",
       "      <th>location</th>\n",
       "      <th>city</th>\n",
       "      <th>province_name</th>\n",
       "      <th>area</th>\n",
       "      <th>purpose</th>\n",
       "      <th>date_added</th>\n",
       "    </tr>\n",
       "  </thead>\n",
       "  <tbody>\n",
       "    <tr>\n",
       "      <th>0</th>\n",
       "      <td>https://www.zameen.com/Property/g_10_g_10_2_gr...</td>\n",
       "      <td>Flat</td>\n",
       "      <td>G-10</td>\n",
       "      <td>Islamabad</td>\n",
       "      <td>Islamabad Capital</td>\n",
       "      <td>4 Marla</td>\n",
       "      <td>For Sale</td>\n",
       "      <td>02-04-2019</td>\n",
       "    </tr>\n",
       "    <tr>\n",
       "      <th>1</th>\n",
       "      <td>https://www.zameen.com/Property/e_11_2_service...</td>\n",
       "      <td>Flat</td>\n",
       "      <td>E-11</td>\n",
       "      <td>Islamabad</td>\n",
       "      <td>Islamabad Capital</td>\n",
       "      <td>5.6 Marla</td>\n",
       "      <td>For Sale</td>\n",
       "      <td>05-04-2019</td>\n",
       "    </tr>\n",
       "    <tr>\n",
       "      <th>2</th>\n",
       "      <td>https://www.zameen.com/Property/islamabad_g_15...</td>\n",
       "      <td>House</td>\n",
       "      <td>G-15</td>\n",
       "      <td>Islamabad</td>\n",
       "      <td>Islamabad Capital</td>\n",
       "      <td>8 Marla</td>\n",
       "      <td>For Sale</td>\n",
       "      <td>07-17-2019</td>\n",
       "    </tr>\n",
       "    <tr>\n",
       "      <th>3</th>\n",
       "      <td>https://www.zameen.com/Property/islamabad_bani...</td>\n",
       "      <td>House</td>\n",
       "      <td>Bani Gala</td>\n",
       "      <td>Islamabad</td>\n",
       "      <td>Islamabad Capital</td>\n",
       "      <td>2 Kanal</td>\n",
       "      <td>For Sale</td>\n",
       "      <td>04-05-2019</td>\n",
       "    </tr>\n",
       "    <tr>\n",
       "      <th>4</th>\n",
       "      <td>https://www.zameen.com/Property/dha_valley_dha...</td>\n",
       "      <td>House</td>\n",
       "      <td>DHA Defence</td>\n",
       "      <td>Islamabad</td>\n",
       "      <td>Islamabad Capital</td>\n",
       "      <td>8 Marla</td>\n",
       "      <td>For Sale</td>\n",
       "      <td>07-10-2019</td>\n",
       "    </tr>\n",
       "  </tbody>\n",
       "</table>\n",
       "</div>"
      ],
      "text/plain": [
       "                                            page_url property_type  \\\n",
       "0  https://www.zameen.com/Property/g_10_g_10_2_gr...          Flat   \n",
       "1  https://www.zameen.com/Property/e_11_2_service...          Flat   \n",
       "2  https://www.zameen.com/Property/islamabad_g_15...         House   \n",
       "3  https://www.zameen.com/Property/islamabad_bani...         House   \n",
       "4  https://www.zameen.com/Property/dha_valley_dha...         House   \n",
       "\n",
       "      location       city      province_name       area   purpose  date_added  \n",
       "0         G-10  Islamabad  Islamabad Capital    4 Marla  For Sale  02-04-2019  \n",
       "1         E-11  Islamabad  Islamabad Capital  5.6 Marla  For Sale  05-04-2019  \n",
       "2         G-15  Islamabad  Islamabad Capital    8 Marla  For Sale  07-17-2019  \n",
       "3    Bani Gala  Islamabad  Islamabad Capital    2 Kanal  For Sale  04-05-2019  \n",
       "4  DHA Defence  Islamabad  Islamabad Capital    8 Marla  For Sale  07-10-2019  "
      ]
     },
     "execution_count": 12,
     "metadata": {},
     "output_type": "execute_result"
    }
   ],
   "source": [
    "df_object = df.select_dtypes(include=['object'])\n",
    "df_object.head()"
   ]
  },
  {
   "cell_type": "code",
   "execution_count": 13,
   "id": "102d0c17",
   "metadata": {},
   "outputs": [
    {
     "data": {
      "text/html": [
       "<div>\n",
       "<style scoped>\n",
       "    .dataframe tbody tr th:only-of-type {\n",
       "        vertical-align: middle;\n",
       "    }\n",
       "\n",
       "    .dataframe tbody tr th {\n",
       "        vertical-align: top;\n",
       "    }\n",
       "\n",
       "    .dataframe thead th {\n",
       "        text-align: right;\n",
       "    }\n",
       "</style>\n",
       "<table border=\"1\" class=\"dataframe\">\n",
       "  <thead>\n",
       "    <tr style=\"text-align: right;\">\n",
       "      <th></th>\n",
       "      <th>property_id</th>\n",
       "      <th>location_id</th>\n",
       "      <th>price</th>\n",
       "      <th>latitude</th>\n",
       "      <th>longitude</th>\n",
       "      <th>baths</th>\n",
       "      <th>bedrooms</th>\n",
       "    </tr>\n",
       "  </thead>\n",
       "  <tbody>\n",
       "    <tr>\n",
       "      <th>0</th>\n",
       "      <td>237062</td>\n",
       "      <td>3325</td>\n",
       "      <td>10000000</td>\n",
       "      <td>33.679890</td>\n",
       "      <td>73.012640</td>\n",
       "      <td>2</td>\n",
       "      <td>2</td>\n",
       "    </tr>\n",
       "    <tr>\n",
       "      <th>1</th>\n",
       "      <td>346905</td>\n",
       "      <td>3236</td>\n",
       "      <td>6900000</td>\n",
       "      <td>33.700993</td>\n",
       "      <td>72.971492</td>\n",
       "      <td>3</td>\n",
       "      <td>3</td>\n",
       "    </tr>\n",
       "    <tr>\n",
       "      <th>2</th>\n",
       "      <td>386513</td>\n",
       "      <td>764</td>\n",
       "      <td>16500000</td>\n",
       "      <td>33.631486</td>\n",
       "      <td>72.926559</td>\n",
       "      <td>6</td>\n",
       "      <td>5</td>\n",
       "    </tr>\n",
       "    <tr>\n",
       "      <th>3</th>\n",
       "      <td>656161</td>\n",
       "      <td>340</td>\n",
       "      <td>43500000</td>\n",
       "      <td>33.707573</td>\n",
       "      <td>73.151199</td>\n",
       "      <td>4</td>\n",
       "      <td>4</td>\n",
       "    </tr>\n",
       "    <tr>\n",
       "      <th>4</th>\n",
       "      <td>841645</td>\n",
       "      <td>3226</td>\n",
       "      <td>7000000</td>\n",
       "      <td>33.492591</td>\n",
       "      <td>73.301339</td>\n",
       "      <td>3</td>\n",
       "      <td>3</td>\n",
       "    </tr>\n",
       "  </tbody>\n",
       "</table>\n",
       "</div>"
      ],
      "text/plain": [
       "   property_id  location_id     price   latitude  longitude  baths  bedrooms\n",
       "0       237062         3325  10000000  33.679890  73.012640      2         2\n",
       "1       346905         3236   6900000  33.700993  72.971492      3         3\n",
       "2       386513          764  16500000  33.631486  72.926559      6         5\n",
       "3       656161          340  43500000  33.707573  73.151199      4         4\n",
       "4       841645         3226   7000000  33.492591  73.301339      3         3"
      ]
     },
     "execution_count": 13,
     "metadata": {},
     "output_type": "execute_result"
    }
   ],
   "source": [
    "df_exclude_object = df.select_dtypes(exclude=['object'])\n",
    "df_exclude_object.head()"
   ]
  },
  {
   "cell_type": "markdown",
   "id": "9670e5b3",
   "metadata": {},
   "source": [
    "# Count of Property Type,City,Province and purpose"
   ]
  },
  {
   "cell_type": "code",
   "execution_count": 14,
   "id": "0b4509e2",
   "metadata": {},
   "outputs": [
    {
     "data": {
      "image/png": "[encoded data removed]",
      "text/plain": [
       "<Figure size 432x288 with 1 Axes>"
      ]
     },
     "metadata": {
      "needs_background": "light"
     },
     "output_type": "display_data"
    },
    {
     "data": {
      "image/png": "[encoded data removed]",
      "text/plain": [
       "<Figure size 432x288 with 1 Axes>"
      ]
     },
     "metadata": {
      "needs_background": "light"
     },
     "output_type": "display_data"
    },
    {
     "data": {
      "image/png": "[encoded data removed]",
      "text/plain": [
       "<Figure size 432x288 with 1 Axes>"
      ]
     },
     "metadata": {
      "needs_background": "light"
     },
     "output_type": "display_data"
    },
    {
     "data": {
      "image/png": "[encoded data removed]",
      "text/plain": [
       "<Figure size 432x288 with 1 Axes>"
      ]
     },
     "metadata": {
      "needs_background": "light"
     },
     "output_type": "display_data"
    }
   ],
   "source": [
    "# visualise the count of each category in categorical columns\n",
    "\n",
    "categorical = ['property_type', 'city', 'province_name', 'purpose']\n",
    "\n",
    "for i, cat_feature in enumerate(df[categorical]):\n",
    "    df[cat_feature].value_counts().plot(kind = 'bar', color = 'red')\n",
    "    plt.show()"
   ]
  },
  {
   "cell_type": "markdown",
   "id": "d9aad350",
   "metadata": {},
   "source": [
    "# Property type Vs Price"
   ]
  },
  {
   "cell_type": "code",
   "execution_count": 15,
   "id": "11d8f0de",
   "metadata": {},
   "outputs": [
    {
     "data": {
      "text/plain": [
       "<AxesSubplot:xlabel='price', ylabel='property_type'>"
      ]
     },
     "execution_count": 15,
     "metadata": {},
     "output_type": "execute_result"
    },
    {
     "data": {
      "text/plain": [
       "<Figure size 720x576 with 0 Axes>"
      ]
     },
     "metadata": {},
     "output_type": "display_data"
    },
    {
     "data": {
      "image/png": "[encoded data removed]",
      "text/plain": [
       "<Figure size 432x288 with 1 Axes>"
      ]
     },
     "metadata": {
      "needs_background": "light"
     },
     "output_type": "display_data"
    }
   ],
   "source": [
    "fig = plt.figure(figsize = (10,8))\n",
    "df.plot.scatter(x = 'price', y = 'property_type', color = 'red',s=20)"
   ]
  },
  {
   "cell_type": "code",
   "execution_count": 16,
   "id": "453b1343",
   "metadata": {},
   "outputs": [
    {
     "ename": "ValueError",
     "evalue": "Could not interpret value `month` for parameter `x`",
     "output_type": "error",
     "traceback": [
      "\u001b[1;31m---------------------------------------------------------------------------\u001b[0m",
      "\u001b[1;31mValueError\u001b[0m                                Traceback (most recent call last)",
      "\u001b[1;32m~\\AppData\\Local\\Temp/ipykernel_4824/3712397304.py\u001b[0m in \u001b[0;36m<module>\u001b[1;34m\u001b[0m\n\u001b[1;32m----> 1\u001b[1;33m \u001b[0msns\u001b[0m\u001b[1;33m.\u001b[0m\u001b[0mscatterplot\u001b[0m\u001b[1;33m(\u001b[0m\u001b[0mdata\u001b[0m\u001b[1;33m=\u001b[0m\u001b[0mdf\u001b[0m\u001b[1;33m,\u001b[0m \u001b[0mx\u001b[0m\u001b[1;33m=\u001b[0m\u001b[1;34m'month'\u001b[0m \u001b[1;33m,\u001b[0m \u001b[0my\u001b[0m\u001b[1;33m=\u001b[0m\u001b[1;34m\"price\"\u001b[0m \u001b[1;33m,\u001b[0m \u001b[0mhue\u001b[0m \u001b[1;33m=\u001b[0m\u001b[1;34m\"property_type\"\u001b[0m \u001b[1;33m)\u001b[0m\u001b[1;33m\u001b[0m\u001b[1;33m\u001b[0m\u001b[0m\n\u001b[0m\u001b[0;32m      2\u001b[0m \u001b[0mplt\u001b[0m\u001b[1;33m.\u001b[0m\u001b[0mgcf\u001b[0m\u001b[1;33m(\u001b[0m\u001b[1;33m)\u001b[0m\u001b[1;33m.\u001b[0m\u001b[0mset_size_inches\u001b[0m\u001b[1;33m(\u001b[0m\u001b[1;33m(\u001b[0m\u001b[1;36m5\u001b[0m\u001b[1;33m,\u001b[0m\u001b[1;36m5\u001b[0m\u001b[1;33m)\u001b[0m\u001b[1;33m)\u001b[0m\u001b[1;33m\u001b[0m\u001b[1;33m\u001b[0m\u001b[0m\n",
      "\u001b[1;32m~\\anaconda3\\lib\\site-packages\\seaborn\\_decorators.py\u001b[0m in \u001b[0;36minner_f\u001b[1;34m(*args, **kwargs)\u001b[0m\n\u001b[0;32m     44\u001b[0m             )\n\u001b[0;32m     45\u001b[0m         \u001b[0mkwargs\u001b[0m\u001b[1;33m.\u001b[0m\u001b[0mupdate\u001b[0m\u001b[1;33m(\u001b[0m\u001b[1;33m{\u001b[0m\u001b[0mk\u001b[0m\u001b[1;33m:\u001b[0m \u001b[0marg\u001b[0m \u001b[1;32mfor\u001b[0m \u001b[0mk\u001b[0m\u001b[1;33m,\u001b[0m \u001b[0marg\u001b[0m \u001b[1;32min\u001b[0m \u001b[0mzip\u001b[0m\u001b[1;33m(\u001b[0m\u001b[0msig\u001b[0m\u001b[1;33m.\u001b[0m\u001b[0mparameters\u001b[0m\u001b[1;33m,\u001b[0m \u001b[0margs\u001b[0m\u001b[1;33m)\u001b[0m\u001b[1;33m}\u001b[0m\u001b[1;33m)\u001b[0m\u001b[1;33m\u001b[0m\u001b[1;33m\u001b[0m\u001b[0m\n\u001b[1;32m---> 46\u001b[1;33m         \u001b[1;32mreturn\u001b[0m \u001b[0mf\u001b[0m\u001b[1;33m(\u001b[0m\u001b[1;33m**\u001b[0m\u001b[0mkwargs\u001b[0m\u001b[1;33m)\u001b[0m\u001b[1;33m\u001b[0m\u001b[1;33m\u001b[0m\u001b[0m\n\u001b[0m\u001b[0;32m     47\u001b[0m     \u001b[1;32mreturn\u001b[0m \u001b[0minner_f\u001b[0m\u001b[1;33m\u001b[0m\u001b[1;33m\u001b[0m\u001b[0m\n\u001b[0;32m     48\u001b[0m \u001b[1;33m\u001b[0m\u001b[0m\n",
      "\u001b[1;32m~\\anaconda3\\lib\\site-packages\\seaborn\\relational.py\u001b[0m in \u001b[0;36mscatterplot\u001b[1;34m(x, y, hue, style, size, data, palette, hue_order, hue_norm, sizes, size_order, size_norm, markers, style_order, x_bins, y_bins, units, estimator, ci, n_boot, alpha, x_jitter, y_jitter, legend, ax, **kwargs)\u001b[0m\n\u001b[0;32m    806\u001b[0m \u001b[1;33m\u001b[0m\u001b[0m\n\u001b[0;32m    807\u001b[0m     \u001b[0mvariables\u001b[0m \u001b[1;33m=\u001b[0m \u001b[0m_ScatterPlotter\u001b[0m\u001b[1;33m.\u001b[0m\u001b[0mget_semantics\u001b[0m\u001b[1;33m(\u001b[0m\u001b[0mlocals\u001b[0m\u001b[1;33m(\u001b[0m\u001b[1;33m)\u001b[0m\u001b[1;33m)\u001b[0m\u001b[1;33m\u001b[0m\u001b[1;33m\u001b[0m\u001b[0m\n\u001b[1;32m--> 808\u001b[1;33m     p = _ScatterPlotter(\n\u001b[0m\u001b[0;32m    809\u001b[0m         \u001b[0mdata\u001b[0m\u001b[1;33m=\u001b[0m\u001b[0mdata\u001b[0m\u001b[1;33m,\u001b[0m \u001b[0mvariables\u001b[0m\u001b[1;33m=\u001b[0m\u001b[0mvariables\u001b[0m\u001b[1;33m,\u001b[0m\u001b[1;33m\u001b[0m\u001b[1;33m\u001b[0m\u001b[0m\n\u001b[0;32m    810\u001b[0m         \u001b[0mx_bins\u001b[0m\u001b[1;33m=\u001b[0m\u001b[0mx_bins\u001b[0m\u001b[1;33m,\u001b[0m \u001b[0my_bins\u001b[0m\u001b[1;33m=\u001b[0m\u001b[0my_bins\u001b[0m\u001b[1;33m,\u001b[0m\u001b[1;33m\u001b[0m\u001b[1;33m\u001b[0m\u001b[0m\n",
      "\u001b[1;32m~\\anaconda3\\lib\\site-packages\\seaborn\\relational.py\u001b[0m in \u001b[0;36m__init__\u001b[1;34m(self, data, variables, x_bins, y_bins, estimator, ci, n_boot, alpha, x_jitter, y_jitter, legend)\u001b[0m\n\u001b[0;32m    585\u001b[0m         )\n\u001b[0;32m    586\u001b[0m \u001b[1;33m\u001b[0m\u001b[0m\n\u001b[1;32m--> 587\u001b[1;33m         \u001b[0msuper\u001b[0m\u001b[1;33m(\u001b[0m\u001b[1;33m)\u001b[0m\u001b[1;33m.\u001b[0m\u001b[0m__init__\u001b[0m\u001b[1;33m(\u001b[0m\u001b[0mdata\u001b[0m\u001b[1;33m=\u001b[0m\u001b[0mdata\u001b[0m\u001b[1;33m,\u001b[0m \u001b[0mvariables\u001b[0m\u001b[1;33m=\u001b[0m\u001b[0mvariables\u001b[0m\u001b[1;33m)\u001b[0m\u001b[1;33m\u001b[0m\u001b[1;33m\u001b[0m\u001b[0m\n\u001b[0m\u001b[0;32m    588\u001b[0m \u001b[1;33m\u001b[0m\u001b[0m\n\u001b[0;32m    589\u001b[0m         \u001b[0mself\u001b[0m\u001b[1;33m.\u001b[0m\u001b[0malpha\u001b[0m \u001b[1;33m=\u001b[0m \u001b[0malpha\u001b[0m\u001b[1;33m\u001b[0m\u001b[1;33m\u001b[0m\u001b[0m\n",
      "\u001b[1;32m~\\anaconda3\\lib\\site-packages\\seaborn\\_core.py\u001b[0m in \u001b[0;36m__init__\u001b[1;34m(self, data, variables)\u001b[0m\n\u001b[0;32m    603\u001b[0m     \u001b[1;32mdef\u001b[0m \u001b[0m__init__\u001b[0m\u001b[1;33m(\u001b[0m\u001b[0mself\u001b[0m\u001b[1;33m,\u001b[0m \u001b[0mdata\u001b[0m\u001b[1;33m=\u001b[0m\u001b[1;32mNone\u001b[0m\u001b[1;33m,\u001b[0m \u001b[0mvariables\u001b[0m\u001b[1;33m=\u001b[0m\u001b[1;33m{\u001b[0m\u001b[1;33m}\u001b[0m\u001b[1;33m)\u001b[0m\u001b[1;33m:\u001b[0m\u001b[1;33m\u001b[0m\u001b[1;33m\u001b[0m\u001b[0m\n\u001b[0;32m    604\u001b[0m \u001b[1;33m\u001b[0m\u001b[0m\n\u001b[1;32m--> 605\u001b[1;33m         \u001b[0mself\u001b[0m\u001b[1;33m.\u001b[0m\u001b[0massign_variables\u001b[0m\u001b[1;33m(\u001b[0m\u001b[0mdata\u001b[0m\u001b[1;33m,\u001b[0m \u001b[0mvariables\u001b[0m\u001b[1;33m)\u001b[0m\u001b[1;33m\u001b[0m\u001b[1;33m\u001b[0m\u001b[0m\n\u001b[0m\u001b[0;32m    606\u001b[0m \u001b[1;33m\u001b[0m\u001b[0m\n\u001b[0;32m    607\u001b[0m         \u001b[1;32mfor\u001b[0m \u001b[0mvar\u001b[0m\u001b[1;33m,\u001b[0m \u001b[0mcls\u001b[0m \u001b[1;32min\u001b[0m \u001b[0mself\u001b[0m\u001b[1;33m.\u001b[0m\u001b[0m_semantic_mappings\u001b[0m\u001b[1;33m.\u001b[0m\u001b[0mitems\u001b[0m\u001b[1;33m(\u001b[0m\u001b[1;33m)\u001b[0m\u001b[1;33m:\u001b[0m\u001b[1;33m\u001b[0m\u001b[1;33m\u001b[0m\u001b[0m\n",
      "\u001b[1;32m~\\anaconda3\\lib\\site-packages\\seaborn\\_core.py\u001b[0m in \u001b[0;36massign_variables\u001b[1;34m(self, data, variables)\u001b[0m\n\u001b[0;32m    666\u001b[0m         \u001b[1;32melse\u001b[0m\u001b[1;33m:\u001b[0m\u001b[1;33m\u001b[0m\u001b[1;33m\u001b[0m\u001b[0m\n\u001b[0;32m    667\u001b[0m             \u001b[0mself\u001b[0m\u001b[1;33m.\u001b[0m\u001b[0minput_format\u001b[0m \u001b[1;33m=\u001b[0m \u001b[1;34m\"long\"\u001b[0m\u001b[1;33m\u001b[0m\u001b[1;33m\u001b[0m\u001b[0m\n\u001b[1;32m--> 668\u001b[1;33m             plot_data, variables = self._assign_variables_longform(\n\u001b[0m\u001b[0;32m    669\u001b[0m                 \u001b[0mdata\u001b[0m\u001b[1;33m,\u001b[0m \u001b[1;33m**\u001b[0m\u001b[0mvariables\u001b[0m\u001b[1;33m,\u001b[0m\u001b[1;33m\u001b[0m\u001b[1;33m\u001b[0m\u001b[0m\n\u001b[0;32m    670\u001b[0m             )\n",
      "\u001b[1;32m~\\anaconda3\\lib\\site-packages\\seaborn\\_core.py\u001b[0m in \u001b[0;36m_assign_variables_longform\u001b[1;34m(self, data, **kwargs)\u001b[0m\n\u001b[0;32m    901\u001b[0m \u001b[1;33m\u001b[0m\u001b[0m\n\u001b[0;32m    902\u001b[0m                 \u001b[0merr\u001b[0m \u001b[1;33m=\u001b[0m \u001b[1;34mf\"Could not interpret value `{val}` for parameter `{key}`\"\u001b[0m\u001b[1;33m\u001b[0m\u001b[1;33m\u001b[0m\u001b[0m\n\u001b[1;32m--> 903\u001b[1;33m                 \u001b[1;32mraise\u001b[0m \u001b[0mValueError\u001b[0m\u001b[1;33m(\u001b[0m\u001b[0merr\u001b[0m\u001b[1;33m)\u001b[0m\u001b[1;33m\u001b[0m\u001b[1;33m\u001b[0m\u001b[0m\n\u001b[0m\u001b[0;32m    904\u001b[0m \u001b[1;33m\u001b[0m\u001b[0m\n\u001b[0;32m    905\u001b[0m             \u001b[1;32melse\u001b[0m\u001b[1;33m:\u001b[0m\u001b[1;33m\u001b[0m\u001b[1;33m\u001b[0m\u001b[0m\n",
      "\u001b[1;31mValueError\u001b[0m: Could not interpret value `month` for parameter `x`"
     ]
    }
   ],
   "source": [
    "sns.scatterplot(data=df, x='month' , y=\"price\" , hue =\"property_type\" )\n",
    "plt.gcf().set_size_inches((5,5))"
   ]
  },
  {
   "cell_type": "code",
   "execution_count": null,
   "id": "16d1dda3",
   "metadata": {},
   "outputs": [],
   "source": [
    "plt.rcParams['figure.figsize'] = (8,4)\n",
    "plt.xticks(rotation=27)\n",
    "sns.distplot(df['price'])\n",
    "plt.title('Distribution of Prices')\n",
    "plt.show()"
   ]
  },
  {
   "cell_type": "code",
   "execution_count": null,
   "id": "149ae8d8",
   "metadata": {},
   "outputs": [],
   "source": [
    "df.drop(df[df['price'] >= 1450000000].index, inplace = True)\n",
    "df.drop(df[df['baths'] >= 14].index, inplace = True)"
   ]
  },
  {
   "cell_type": "code",
   "execution_count": 19,
   "id": "ff07add2",
   "metadata": {},
   "outputs": [],
   "source": [
    "from scipy import stats\n",
    "\n",
    "def drop_numerical_outliers(df, z_thresh=3):\n",
    "    # Constrains will contain `True` or `False` depending on if it is a value below the threshold.\n",
    "    constrains = df.select_dtypes(include=[np.number]) \\\n",
    "        .apply(lambda x: np.abs(stats.zscore(x)) < z_thresh) \\\n",
    "        .all(axis=1)\n",
    "    # Drop (inplace) values set to be rejected\n",
    "    df.drop(df.index[~constrains], inplace=True)"
   ]
  },
  {
   "cell_type": "code",
   "execution_count": 20,
   "id": "edf60e4d",
   "metadata": {},
   "outputs": [],
   "source": [
    "drop_numerical_outliers(df)"
   ]
  },
  {
   "cell_type": "code",
   "execution_count": 21,
   "id": "dbcc6f4d",
   "metadata": {},
   "outputs": [
    {
     "data": {
      "text/html": [
       "<div>\n",
       "<style scoped>\n",
       "    .dataframe tbody tr th:only-of-type {\n",
       "        vertical-align: middle;\n",
       "    }\n",
       "\n",
       "    .dataframe tbody tr th {\n",
       "        vertical-align: top;\n",
       "    }\n",
       "\n",
       "    .dataframe thead th {\n",
       "        text-align: right;\n",
       "    }\n",
       "</style>\n",
       "<table border=\"1\" class=\"dataframe\">\n",
       "  <thead>\n",
       "    <tr style=\"text-align: right;\">\n",
       "      <th></th>\n",
       "      <th>property_id</th>\n",
       "      <th>location_id</th>\n",
       "      <th>page_url</th>\n",
       "      <th>property_type</th>\n",
       "      <th>price</th>\n",
       "      <th>location</th>\n",
       "      <th>city</th>\n",
       "      <th>province_name</th>\n",
       "      <th>latitude</th>\n",
       "      <th>longitude</th>\n",
       "      <th>baths</th>\n",
       "      <th>area</th>\n",
       "      <th>purpose</th>\n",
       "      <th>bedrooms</th>\n",
       "      <th>date_added</th>\n",
       "    </tr>\n",
       "  </thead>\n",
       "  <tbody>\n",
       "    <tr>\n",
       "      <th>3111</th>\n",
       "      <td>8843737</td>\n",
       "      <td>4024</td>\n",
       "      <td>https://www.zameen.com/Property/marghzar_offic...</td>\n",
       "      <td>House</td>\n",
       "      <td>7000000</td>\n",
       "      <td>Marghzar Officers Colony</td>\n",
       "      <td>Lahore</td>\n",
       "      <td>Punjab</td>\n",
       "      <td>31.499385</td>\n",
       "      <td>74.248524</td>\n",
       "      <td>4</td>\n",
       "      <td>3 Marla</td>\n",
       "      <td>For Sale</td>\n",
       "      <td>6</td>\n",
       "      <td>07-03-2019</td>\n",
       "    </tr>\n",
       "    <tr>\n",
       "      <th>3112</th>\n",
       "      <td>8844772</td>\n",
       "      <td>783</td>\n",
       "      <td>https://www.zameen.com/Property/lahore_shadbag...</td>\n",
       "      <td>House</td>\n",
       "      <td>25000000</td>\n",
       "      <td>Shadbagh</td>\n",
       "      <td>Lahore</td>\n",
       "      <td>Punjab</td>\n",
       "      <td>31.602644</td>\n",
       "      <td>74.340019</td>\n",
       "      <td>4</td>\n",
       "      <td>10 Marla</td>\n",
       "      <td>For Sale</td>\n",
       "      <td>5</td>\n",
       "      <td>07-03-2019</td>\n",
       "    </tr>\n",
       "    <tr>\n",
       "      <th>3113</th>\n",
       "      <td>8848179</td>\n",
       "      <td>128</td>\n",
       "      <td>https://www.zameen.com/Property/lahore_raiwind...</td>\n",
       "      <td>House</td>\n",
       "      <td>24500000</td>\n",
       "      <td>Raiwind Road</td>\n",
       "      <td>Lahore</td>\n",
       "      <td>Punjab</td>\n",
       "      <td>31.429249</td>\n",
       "      <td>74.230785</td>\n",
       "      <td>5</td>\n",
       "      <td>1 Kanal</td>\n",
       "      <td>For Sale</td>\n",
       "      <td>4</td>\n",
       "      <td>07-03-2019</td>\n",
       "    </tr>\n",
       "    <tr>\n",
       "      <th>3114</th>\n",
       "      <td>8857181</td>\n",
       "      <td>4575</td>\n",
       "      <td>https://www.zameen.com/Property/lahore_ring_ro...</td>\n",
       "      <td>House</td>\n",
       "      <td>6000000</td>\n",
       "      <td>Ring Road</td>\n",
       "      <td>Lahore</td>\n",
       "      <td>Punjab</td>\n",
       "      <td>31.595041</td>\n",
       "      <td>74.480950</td>\n",
       "      <td>4</td>\n",
       "      <td>3 Marla</td>\n",
       "      <td>For Sale</td>\n",
       "      <td>3</td>\n",
       "      <td>07-03-2019</td>\n",
       "    </tr>\n",
       "    <tr>\n",
       "      <th>3115</th>\n",
       "      <td>8858428</td>\n",
       "      <td>4183</td>\n",
       "      <td>https://www.zameen.com/Property/samanabad_sama...</td>\n",
       "      <td>House</td>\n",
       "      <td>25000000</td>\n",
       "      <td>Samanabad</td>\n",
       "      <td>Lahore</td>\n",
       "      <td>Punjab</td>\n",
       "      <td>31.534250</td>\n",
       "      <td>74.300730</td>\n",
       "      <td>4</td>\n",
       "      <td>11 Marla</td>\n",
       "      <td>For Sale</td>\n",
       "      <td>5</td>\n",
       "      <td>07-03-2019</td>\n",
       "    </tr>\n",
       "  </tbody>\n",
       "</table>\n",
       "</div>"
      ],
      "text/plain": [
       "      property_id  location_id  \\\n",
       "3111      8843737         4024   \n",
       "3112      8844772          783   \n",
       "3113      8848179          128   \n",
       "3114      8857181         4575   \n",
       "3115      8858428         4183   \n",
       "\n",
       "                                               page_url property_type  \\\n",
       "3111  https://www.zameen.com/Property/marghzar_offic...         House   \n",
       "3112  https://www.zameen.com/Property/lahore_shadbag...         House   \n",
       "3113  https://www.zameen.com/Property/lahore_raiwind...         House   \n",
       "3114  https://www.zameen.com/Property/lahore_ring_ro...         House   \n",
       "3115  https://www.zameen.com/Property/samanabad_sama...         House   \n",
       "\n",
       "         price                  location    city province_name   latitude  \\\n",
       "3111   7000000  Marghzar Officers Colony  Lahore        Punjab  31.499385   \n",
       "3112  25000000                  Shadbagh  Lahore        Punjab  31.602644   \n",
       "3113  24500000              Raiwind Road  Lahore        Punjab  31.429249   \n",
       "3114   6000000                 Ring Road  Lahore        Punjab  31.595041   \n",
       "3115  25000000                 Samanabad  Lahore        Punjab  31.534250   \n",
       "\n",
       "      longitude  baths      area   purpose  bedrooms  date_added  \n",
       "3111  74.248524      4   3 Marla  For Sale         6  07-03-2019  \n",
       "3112  74.340019      4  10 Marla  For Sale         5  07-03-2019  \n",
       "3113  74.230785      5   1 Kanal  For Sale         4  07-03-2019  \n",
       "3114  74.480950      4   3 Marla  For Sale         3  07-03-2019  \n",
       "3115  74.300730      4  11 Marla  For Sale         5  07-03-2019  "
      ]
     },
     "execution_count": 21,
     "metadata": {},
     "output_type": "execute_result"
    }
   ],
   "source": [
    "d"
   ]
  },
  {
   "cell_type": "code",
   "execution_count": 22,
   "id": "dd9fe19b",
   "metadata": {},
   "outputs": [],
   "source": [
    "#Boxplots from one or more columns are shown using this function.\n",
    "def show_graphs(df, lst, title=\"\"):\n",
    "    if len(lst) > 1:\n",
    "        fig, axs = plt.subplots(1, len(lst), figsize=(16, 5))\n",
    "        for i in range(0, len(lst)):\n",
    "            axs[i].boxplot(df[lst[i]])\n",
    "            axs[i].set_title(lst[i])\n",
    "        fig.suptitle(title)\n",
    "    else:\n",
    "        fig, axs = plt.subplots(figsize=(16, 8))\n",
    "        axs.boxplot(df[lst[0]])\n",
    "        axs.set_title(lst[0])\n",
    "        fig.suptitle(title)"
   ]
  },
  {
   "cell_type": "code",
   "execution_count": 23,
   "id": "0cb6e3b0",
   "metadata": {},
   "outputs": [
    {
     "data": {
      "image/png": "[encoded data removed]",
      "text/plain": [
       "<Figure size 1152x360 with 2 Axes>"
      ]
     },
     "metadata": {
      "needs_background": "light"
     },
     "output_type": "display_data"
    }
   ],
   "source": [
    "#Check the Outliers\n",
    "show_graphs(df,['price','baths'])"
   ]
  },
  {
   "cell_type": "code",
   "execution_count": null,
   "id": "07ad9d8f",
   "metadata": {},
   "outputs": [],
   "source": [
    "df.to_csv(\"df.csv\",index=False)"
   ]
  },
  {
   "cell_type": "code",
   "execution_count": 24,
   "id": "a7d78825",
   "metadata": {},
   "outputs": [
    {
     "data": {
      "text/plain": [
       "<AxesSubplot:xlabel='price', ylabel='property_type'>"
      ]
     },
     "execution_count": 24,
     "metadata": {},
     "output_type": "execute_result"
    },
    {
     "data": {
      "text/plain": [
       "<Figure size 720x576 with 0 Axes>"
      ]
     },
     "metadata": {},
     "output_type": "display_data"
    },
    {
     "data": {
      "image/png": "[encoded data removed]",
      "text/plain": [
       "<Figure size 432x288 with 1 Axes>"
      ]
     },
     "metadata": {
      "needs_background": "light"
     },
     "output_type": "display_data"
    }
   ],
   "source": [
    "fig = plt.figure(figsize = (10,8))\n",
    "df.plot.scatter(x = 'price', y = 'property_type', color = 'red',s=20)"
   ]
  },
  {
   "cell_type": "code",
   "execution_count": null,
   "id": "d00f847d",
   "metadata": {},
   "outputs": [],
   "source": [
    "# lets import the scipy package\n",
    "import scipy.stats as stats\n",
    "import math\n",
    "\n",
    "# lets seed the random values\n",
    "np.random.seed(10)\n",
    "\n",
    "# lets take a sample size\n",
    "sample_size = 1000\n",
    "sample = np.random.choice(a= df['price'],\n",
    "                          size = sample_size)\n",
    "sample_mean = sample.mean()\n",
    "\n",
    "# Get the z-critical value*\n",
    "z_critical = stats.norm.ppf(q = 0.95)  \n",
    "\n",
    " # Check the z-critical value  \n",
    "print(\"z-critical value: \",z_critical)                                \n",
    "# Get the population standard deviation\n",
    "pop_stdev = df['price'].std()  \n",
    "\n",
    "# checking the margin of error\n",
    "margin_of_error = z_critical * (pop_stdev/math.sqrt(sample_size)) \n",
    "\n",
    "# defining our confidence interval\n",
    "confidence_interval = (sample_mean - margin_of_error,\n",
    "                       sample_mean + margin_of_error)  \n",
    "\n",
    "# lets print the results\n",
    "print(\"Confidence interval:\",end=\" \")\n",
    "print(confidence_interval)\n",
    "print(\"True mean: {}\".format(df['price'].mean()))"
   ]
  },
  {
   "cell_type": "code",
   "execution_count": null,
   "id": "10df07b2",
   "metadata": {},
   "outputs": [],
   "source": [
    "np.random.seed(12)\n",
    "\n",
    "sample_size = 6500\n",
    "\n",
    "intervals = []\n",
    "sample_means = []\n",
    "\n",
    "for sample in range(25):\n",
    "    sample = np.random.choice(a= df['price'], size = sample_size)\n",
    "    sample_mean = sample.mean()\n",
    "    sample_means.append(sample_mean)\n",
    "\n",
    "     # Get the z-critical value* \n",
    "    z_critical = stats.norm.ppf(q = 0.975)      \n",
    "    # Get the population standard deviation\n",
    "    pop_stdev = df['price'].std()  \n",
    "\n",
    "    stats.norm.ppf(q = 0.025)\n",
    "\n",
    "    margin_of_error = z_critical * (pop_stdev/math.sqrt(sample_size))\n",
    "\n",
    "    confidence_interval = (sample_mean - margin_of_error,\n",
    "                           sample_mean + margin_of_error)  \n",
    "    \n",
    "    intervals.append(confidence_interval)\n",
    "    \n",
    "\n",
    "plt.figure(figsize=(13, 9))\n",
    "\n",
    "plt.errorbar(x=np.arange(0.1, 25, 1), \n",
    "             y=sample_means, \n",
    "             yerr=[(top-bot)/2 for top,bot in intervals],\n",
    "             fmt='o')\n",
    "plt.hlines(xmin=0, xmax=25,\n",
    "           y=df['price'].mean(), \n",
    "           linewidth=2.0,\n",
    "           color=\"red\")\n",
    "plt.title('Confidence Intervals for 25 Trials', fontsize = 10)\n",
    "plt.show()"
   ]
  },
  {
   "cell_type": "code",
   "execution_count": null,
   "id": "377b0540",
   "metadata": {},
   "outputs": [],
   "source": [
    "fig = plt.figure(figsize=(10,5))\n",
    "plt.subplot(131)\n",
    "plt.title('frequency distribution\\n(Histogram)')\n",
    "df['price'].plot(kind='hist')\n",
    "plt.xlabel('age')\n",
    "\n",
    "plt.subplot(132)\n",
    "plt.title('frequency distribution\\n(Density Plot)')\n",
    "df['price'].plot(kind='kde')\n",
    "plt.xlabel('age')\n",
    "\n",
    "plt.subplot(133)\n",
    "plt.title('frequency distribution\\n(Boxplot)')\n",
    "df['price'].plot(kind='box')\n",
    "\n",
    "plt.tight_layout()\n",
    "plt.show()"
   ]
  },
  {
   "cell_type": "code",
   "execution_count": null,
   "id": "4cb70fd7",
   "metadata": {},
   "outputs": [],
   "source": [
    "df.corr()"
   ]
  },
  {
   "cell_type": "code",
   "execution_count": null,
   "id": "294508e1",
   "metadata": {},
   "outputs": [],
   "source": [
    "sns.heatmap(df.corr(), annot=True, annot_kws={\"size\": 8}, fmt='.4f', square=True, cmap='mako')"
   ]
  },
  {
   "cell_type": "markdown",
   "id": "7dc8a16e",
   "metadata": {},
   "source": [
    "# Total No of Houses in Islamabad and Karachi"
   ]
  },
  {
   "cell_type": "code",
   "execution_count": null,
   "id": "e80ce447",
   "metadata": {},
   "outputs": [],
   "source": [
    "houses_in_isb = df[df['city'] == 'Islamabad'].shape[0]\n",
    "print(\"Total Number of Houses in city Islamabad:\", houses_in_isb)\n",
    "houses_in_khi = df[df['city'] == 'Karachi'].shape[0]\n",
    "print(\"Total Number of Houses in city Karachi:\", houses_in_khi)\n"
   ]
  },
  {
   "cell_type": "markdown",
   "id": "85b55dc3",
   "metadata": {},
   "source": [
    "# probability of getting house in Islamabad "
   ]
  },
  {
   "cell_type": "code",
   "execution_count": null,
   "id": "4d0d4fe2",
   "metadata": {},
   "outputs": [],
   "source": [
    "probability = (houses_in_isb/houses)*100\n",
    "print('Probability of getting a house is Islamabad City: {0:.2f}'.format(probability )+'%')"
   ]
  },
  {
   "cell_type": "markdown",
   "id": "648be7bc",
   "metadata": {},
   "source": [
    "# probability of getting house in Karachi"
   ]
  },
  {
   "cell_type": "code",
   "execution_count": null,
   "id": "a076ed33",
   "metadata": {},
   "outputs": [],
   "source": [
    "probability = (houses_in_khi/houses)*100\n",
    "print('Probability of getting a house is Karachi City: {0:.2f}'.format(probability )+'%')"
   ]
  },
  {
   "cell_type": "markdown",
   "id": "236ee4df",
   "metadata": {},
   "source": [
    "# Probability of getting a house in Karachi and again getting a house from Karachi"
   ]
  },
  {
   "cell_type": "code",
   "execution_count": null,
   "id": "8f2c1ea0",
   "metadata": {},
   "outputs": [],
   "source": [
    "cond_prob = (houses_in_khi/houses) * ((houses_in_khi - 1)/(houses - 1)) \n",
    "print(\"The Probability of getting a house in Karachi and again picking a house from Karachi is {0:.9f}\".\n",
    "      format(cond_prob*100)+'%')"
   ]
  },
  {
   "cell_type": "code",
   "execution_count": null,
   "id": "dfc46da0",
   "metadata": {},
   "outputs": [],
   "source": [
    "plt.rcParams['figure.figsize'] = (8,4)\n",
    "plt.xticks(rotation=27)\n",
    "sns.distplot(df['price'])\n",
    "plt.title('Distribution of Prices')\n",
    "plt.show()"
   ]
  },
  {
   "cell_type": "code",
   "execution_count": null,
   "id": "5f257fad",
   "metadata": {},
   "outputs": [],
   "source": [
    "np.random.seed(6)"
   ]
  },
  {
   "cell_type": "markdown",
   "id": "173f0080",
   "metadata": {},
   "source": [
    "# Sample Mean and  Population Mean"
   ]
  },
  {
   "cell_type": "code",
   "execution_count": null,
   "id": "36ca59ff",
   "metadata": {},
   "outputs": [],
   "source": [
    "# Take 6500 sample values \n",
    "sample_ages = np.random.choice(a= df['price'], size=6500)\n",
    "\n",
    "# sample mean\n",
    "print (\"Sample mean:\", sample_ages.mean() )          \n",
    "\n",
    "# population mean\n",
    "print(\"Population mean:\", df['price'].mean())"
   ]
  },
  {
   "cell_type": "markdown",
   "id": "62fb4681",
   "metadata": {},
   "source": [
    "# Are Prices (House) in Karachi different from Other Cities?"
   ]
  },
  {
   "cell_type": "markdown",
   "id": "a338c7f2",
   "metadata": {},
   "source": [
    "# Null Hypotheis:Price of House in karachi aren't different from other cities."
   ]
  },
  {
   "cell_type": "markdown",
   "id": "c2ba48c6",
   "metadata": {},
   "source": [
    "# Alternative Hypothesis: Price of House in karachi are different from  Other cities.(claim)"
   ]
  },
  {
   "cell_type": "code",
   "execution_count": null,
   "id": "54275e91",
   "metadata": {},
   "outputs": [],
   "source": [
    "#z test from statsmodels\n",
    "from statsmodels.stats.weightstats import ztest\n",
    "\n",
    "z_statistic, p_value = ztest(x1 = df[df['city'] == 'Karachi']['price'],\n",
    "                             value = df['price'].mean())\n",
    "\n",
    "print('Z-statistic is :{}'.format(z_statistic))\n",
    "print('P-value is :{:.50f}'.format(p_value))"
   ]
  },
  {
   "cell_type": "markdown",
   "id": "3f1790a8",
   "metadata": {},
   "source": [
    "# ---If the P value if less than 0.05, reject null hypothesis against the alternate hypothesis."
   ]
  },
  {
   "cell_type": "markdown",
   "id": "92dac6a4",
   "metadata": {},
   "source": [
    "# --- P value is smaller than 0.05 ,Fail to accept null hypothesis. "
   ]
  },
  {
   "cell_type": "markdown",
   "id": "0c506a13",
   "metadata": {},
   "source": [
    "# ---There is no enough evidence to reject the claim that prices of house in Karachi are different from other cities."
   ]
  },
  {
   "cell_type": "markdown",
   "id": "22b46dd0",
   "metadata": {},
   "source": [
    "# Probability of Getting a Flat greater than Rs. 5,000,000"
   ]
  },
  {
   "cell_type": "code",
   "execution_count": null,
   "id": "d43dbe42",
   "metadata": {},
   "outputs": [],
   "source": [
    "flat_count = 0\n",
    "for x,y in zip(df['price'],df['property_type']):\n",
    "    if ((x>=5000000) and (y==\"Flat\")):\n",
    "        flat_count = flat_count +1\n",
    "print(\"Count of Flats having price > Rs5,000,000\",\"Total no of flats\", flat_count)  "
   ]
  },
  {
   "cell_type": "code",
   "execution_count": null,
   "id": "c6f56270",
   "metadata": {},
   "outputs": [],
   "source": [
    "Prob1 = flat_count/len(df.index)\n",
    "Prob1"
   ]
  },
  {
   "cell_type": "markdown",
   "id": "2ae5740f",
   "metadata": {},
   "source": [
    "# Probability of Getting a Flat Given it has 2 baths."
   ]
  },
  {
   "cell_type": "code",
   "execution_count": null,
   "id": "0bcfd269",
   "metadata": {},
   "outputs": [],
   "source": [
    "bath = 0\n",
    "flat = 0\n",
    "prob_flat = 0\n",
    "prob_bath = 0\n",
    "for x in df['property_type']:\n",
    "    if (x==\"Flat\"):\n",
    "        flat = flat + 1\n",
    "prob_flat = flat/len(df.index)\n",
    "\n",
    "for x in df['baths']:\n",
    "    if(x == 2):\n",
    "        bath = bath + 1\n",
    "prob_bath = bath/len(df.index)\n",
    "\n",
    "prob_flat_2bath = (prob_flat*prob_bath)/prob_bath\n",
    "print(\"Probabilty of Getting a flat Given that it has 2 baths is:\", prob_flat_2bath)"
   ]
  },
  {
   "cell_type": "markdown",
   "id": "f3c29301",
   "metadata": {},
   "source": [
    "# The probability that the house is above 40000000 given its area is 2 kanal."
   ]
  },
  {
   "cell_type": "code",
   "execution_count": null,
   "id": "5fe2ae35",
   "metadata": {},
   "outputs": [],
   "source": [
    "prop_price = 0\n",
    "prop_size = 0\n",
    "prob_price_40000k = 0\n",
    "prob_size_2k = 0\n",
    "for x in df['price']:\n",
    "    if (x >= 40000000):\n",
    "        prop_price = prop_price + 1\n",
    "prob_price_40000k = prop_price/len(df.index)\n",
    "\n",
    "for x in df['area']:\n",
    "    if(x == '2 Kanal'):\n",
    "        prop_size = prop_size + 1\n",
    "prob_size_2k = prop_size/len(df.index)\n",
    "\n",
    "prob_40000k_2k = (prob_price_40000k*prob_size_2k)/prob_size_2k\n",
    "print(\"The probability that the house is above 40000000 given its area is 2 kanal:\", prob_40000k_2k)"
   ]
  },
  {
   "cell_type": "markdown",
   "id": "1fb5991d",
   "metadata": {},
   "source": [
    "# Which city has the highest Average property prices in Punjab?"
   ]
  },
  {
   "cell_type": "code",
   "execution_count": null,
   "id": "840c0015",
   "metadata": {},
   "outputs": [],
   "source": [
    "df_fsl = df.loc[df['city'].isin(['Faisalabad'])]\n",
    "df_lhr = df.loc[df['city'].isin(['Lahore'])]\n",
    "df_rwp = df.loc[df['city'].isin(['Rawalpindi'])]"
   ]
  },
  {
   "cell_type": "code",
   "execution_count": null,
   "id": "74fba1a4",
   "metadata": {},
   "outputs": [],
   "source": [
    "lhr_price = 0\n",
    "fsl_price = 0\n",
    "rwp_price = 0\n",
    "lhr_price = df_lhr['price'].median()    \n",
    "rwp_price = df_rwp['price'].median()\n",
    "fsl_price = df_fsl['price'].median()\n",
    "\n",
    "print(lhr_price,\"  \",rwp_price,\"  \",fsl_price)       \n",
    "\n",
    "\n",
    "median_price = max(lhr_price,rwp_price,fsl_price)\n",
    "print(\"Lahore has the highest median price in Punjab i.e.:\",median_price)"
   ]
  },
  {
   "cell_type": "markdown",
   "id": "77b95fa8",
   "metadata": {},
   "source": [
    "# It's easy to buy a 2 bedroom apartment in Islamabad than in Karachi"
   ]
  },
  {
   "cell_type": "code",
   "execution_count": null,
   "id": "e14579bd",
   "metadata": {},
   "outputs": [],
   "source": [
    "df_khi = df.loc[df['city'].isin(['Karachi'])]\n",
    "df_khi_2 = df_khi.loc[df_khi['bedrooms']==2]\n",
    "df_khi_2 = df_khi.loc[df_khi['property_type']=='Flat']\n",
    "khi_price = df_khi_2['price'].mean()\n",
    "khi_price"
   ]
  },
  {
   "cell_type": "code",
   "execution_count": null,
   "id": "35357227",
   "metadata": {},
   "outputs": [],
   "source": [
    "df_isl = df.loc[df['city'].isin(['Islamabad'])]\n",
    "df_isl_2 = df_isl.loc[df_isl['bedrooms']==2]\n",
    "df_isl_2 = df_isl.loc[df_isl['property_type']=='Flat']\n",
    "isl_price = df_isl_2['price'].mean()\n",
    "print(isl_price)\n",
    "print(\"Average property price for 2 bedroom appartment in karachi is 1.5 times that of Islamabad\")"
   ]
  },
  {
   "cell_type": "code",
   "execution_count": null,
   "id": "de3e9bd3",
   "metadata": {},
   "outputs": [],
   "source": []
  }
 ],
 "metadata": {
  "kernelspec": {
   "display_name": "Python 3 (ipykernel)",
   "language": "python",
   "name": "python3"
  },
  "language_info": {
   "codemirror_mode": {
    "name": "ipython",
    "version": 3
   },
   "file_extension": ".py",
   "mimetype": "text/x-python",
   "name": "python",
   "nbconvert_exporter": "python",
   "pygments_lexer": "ipython3",
   "version": "3.9.7"
  }
 },
 "nbformat": 4,
 "nbformat_minor": 5
}
